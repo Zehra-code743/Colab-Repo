{
  "nbformat": 4,
  "nbformat_minor": 0,
  "metadata": {
    "colab": {
      "provenance": [],
      "authorship_tag": "ABX9TyOjOxJiKdd4EsoaSBalwDnj",
      "include_colab_link": true
    },
    "kernelspec": {
      "name": "python3",
      "display_name": "Python 3"
    },
    "language_info": {
      "name": "python"
    }
  },
  "cells": [
    {
      "cell_type": "markdown",
      "metadata": {
        "id": "view-in-github",
        "colab_type": "text"
      },
      "source": [
        "<a href=\"https://colab.research.google.com/github/Zehra-code743/Colab-Repo/blob/main/practice.ipynb\" target=\"_parent\"><img src=\"https://colab.research.google.com/assets/colab-badge.svg\" alt=\"Open In Colab\"/></a>"
      ]
    },
    {
      "cell_type": "code",
      "execution_count": 2,
      "metadata": {
        "id": "pru12DEOKAYs",
        "colab": {
          "base_uri": "https://localhost:8080/"
        },
        "outputId": "73014bed-7f79-4f41-c2df-736007f18b7b"
      },
      "outputs": [
        {
          "output_type": "stream",
          "name": "stdout",
          "text": [
            "\n",
            "Hello Python Learners ! My name is SHANE ZEHRA\n",
            "and today is the first step in our coding Journey \n"
          ]
        }
      ],
      "source": [
        "first = \"Shane\"\n",
        "last = \"Zehra\"\n",
        "\n",
        "new = (f\"{first} {last}\")\n",
        "\n",
        "again =new.upper()\n",
        "\n",
        "print(f'''\n",
        "Hello Python Learners ! My name is {again}\n",
        "and today is the first step in our coding Journey ''')"
      ]
    }
  ]
}